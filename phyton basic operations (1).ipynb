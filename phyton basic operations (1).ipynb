{
 "cells": [
  {
   "cell_type": "markdown",
   "id": "19394edc",
   "metadata": {
    "ExecuteTime": {
     "end_time": "2022-11-23T04:50:11.800308Z",
     "start_time": "2022-11-23T04:50:11.786316Z"
    }
   },
   "source": [
    "# "
   ]
  },
  {
   "cell_type": "code",
   "execution_count": 1,
   "id": "19049f56",
   "metadata": {
    "ExecuteTime": {
     "end_time": "2022-11-23T05:04:45.575836Z",
     "start_time": "2022-11-23T05:04:45.543823Z"
    }
   },
   "outputs": [],
   "source": [
    "d =\"It's a %notebook\""
   ]
  },
  {
   "cell_type": "code",
   "execution_count": 2,
   "id": "a8f06ee4",
   "metadata": {
    "ExecuteTime": {
     "end_time": "2022-11-23T05:05:00.524931Z",
     "start_time": "2022-11-23T05:05:00.498942Z"
    }
   },
   "outputs": [
    {
     "data": {
      "text/plain": [
       "\"It's a %notebook\""
      ]
     },
     "execution_count": 2,
     "metadata": {},
     "output_type": "execute_result"
    }
   ],
   "source": [
    "d"
   ]
  },
  {
   "cell_type": "code",
   "execution_count": 3,
   "id": "39dc8fa9",
   "metadata": {
    "ExecuteTime": {
     "end_time": "2022-11-23T05:09:22.459216Z",
     "start_time": "2022-11-23T05:09:22.440227Z"
    }
   },
   "outputs": [],
   "source": [
    "a =10.8int"
   ]
  },
  {
   "cell_type": "code",
   "execution_count": 4,
   "id": "84484f3d",
   "metadata": {
    "ExecuteTime": {
     "end_time": "2022-11-23T05:09:25.893166Z",
     "start_time": "2022-11-23T05:09:25.872177Z"
    }
   },
   "outputs": [
    {
     "data": {
      "text/plain": [
       "10.8"
      ]
     },
     "execution_count": 4,
     "metadata": {},
     "output_type": "execute_result"
    }
   ],
   "source": [
    "a"
   ]
  },
  {
   "cell_type": "code",
   "execution_count": 18,
   "id": "d291ffc0",
   "metadata": {
    "ExecuteTime": {
     "end_time": "2022-11-23T05:41:30.983903Z",
     "start_time": "2022-11-23T05:41:30.960915Z"
    }
   },
   "outputs": [
    {
     "data": {
      "text/plain": [
       "str"
      ]
     },
     "execution_count": 18,
     "metadata": {},
     "output_type": "execute_result"
    }
   ],
   "source": [
    "type(a)"
   ]
  },
  {
   "cell_type": "code",
   "execution_count": null,
   "id": "612c3959",
   "metadata": {},
   "outputs": [],
   "source": []
  },
  {
   "cell_type": "code",
   "execution_count": 7,
   "id": "92fc7dc2",
   "metadata": {
    "ExecuteTime": {
     "end_time": "2022-11-23T05:10:39.413662Z",
     "start_time": "2022-11-23T05:10:39.395676Z"
    }
   },
   "outputs": [
    {
     "data": {
      "text/plain": [
       "int"
      ]
     },
     "execution_count": 7,
     "metadata": {},
     "output_type": "execute_result"
    }
   ],
   "source": [
    "a =int(a)\n",
    "type(a)"
   ]
  },
  {
   "cell_type": "code",
   "execution_count": 8,
   "id": "41060558",
   "metadata": {
    "ExecuteTime": {
     "end_time": "2022-11-23T05:11:43.891722Z",
     "start_time": "2022-11-23T05:11:43.870734Z"
    }
   },
   "outputs": [
    {
     "name": "stdout",
     "output_type": "stream",
     "text": [
      "<class 'str'>\n",
      "10\n"
     ]
    }
   ],
   "source": [
    "a = str(a)\n",
    "\n",
    "print(type(a))\n",
    "print(a)"
   ]
  },
  {
   "cell_type": "raw",
   "id": "ee3247eb",
   "metadata": {},
   "source": [
    "b =500"
   ]
  },
  {
   "cell_type": "code",
   "execution_count": 9,
   "id": "f4157289",
   "metadata": {
    "ExecuteTime": {
     "end_time": "2022-11-23T05:12:16.669001Z",
     "start_time": "2022-11-23T05:12:16.370331Z"
    }
   },
   "outputs": [
    {
     "ename": "NameError",
     "evalue": "name 'b' is not defined",
     "output_type": "error",
     "traceback": [
      "\u001b[1;31m---------------------------------------------------------------------------\u001b[0m",
      "\u001b[1;31mNameError\u001b[0m                                 Traceback (most recent call last)",
      "\u001b[1;32m~\\AppData\\Local\\Temp\\ipykernel_5664\\4251288509.py\u001b[0m in \u001b[0;36m<module>\u001b[1;34m\u001b[0m\n\u001b[1;32m----> 1\u001b[1;33m \u001b[0mbool\u001b[0m\u001b[1;33m(\u001b[0m\u001b[0mb\u001b[0m\u001b[1;33m)\u001b[0m\u001b[1;33m\u001b[0m\u001b[1;33m\u001b[0m\u001b[0m\n\u001b[0m",
      "\u001b[1;31mNameError\u001b[0m: name 'b' is not defined"
     ]
    }
   ],
   "source": [
    "bool(b)"
   ]
  },
  {
   "cell_type": "code",
   "execution_count": 10,
   "id": "708b9d3b",
   "metadata": {
    "ExecuteTime": {
     "end_time": "2022-11-23T05:12:41.209807Z",
     "start_time": "2022-11-23T05:12:41.199811Z"
    }
   },
   "outputs": [],
   "source": [
    "b=500"
   ]
  },
  {
   "cell_type": "code",
   "execution_count": 11,
   "id": "839b748a",
   "metadata": {
    "ExecuteTime": {
     "end_time": "2022-11-23T05:12:46.960800Z",
     "start_time": "2022-11-23T05:12:46.950808Z"
    }
   },
   "outputs": [
    {
     "data": {
      "text/plain": [
       "True"
      ]
     },
     "execution_count": 11,
     "metadata": {},
     "output_type": "execute_result"
    }
   ],
   "source": [
    "bool(b)"
   ]
  },
  {
   "cell_type": "code",
   "execution_count": 12,
   "id": "c57f5060",
   "metadata": {
    "ExecuteTime": {
     "end_time": "2022-11-23T05:12:53.152384Z",
     "start_time": "2022-11-23T05:12:53.132396Z"
    }
   },
   "outputs": [],
   "source": [
    "z=0"
   ]
  },
  {
   "cell_type": "code",
   "execution_count": 17,
   "id": "6a77163d",
   "metadata": {
    "ExecuteTime": {
     "end_time": "2022-11-23T05:40:59.852773Z",
     "start_time": "2022-11-23T05:40:59.831786Z"
    }
   },
   "outputs": [
    {
     "data": {
      "text/plain": [
       "False"
      ]
     },
     "execution_count": 17,
     "metadata": {},
     "output_type": "execute_result"
    }
   ],
   "source": [
    "bool(z)"
   ]
  },
  {
   "cell_type": "code",
   "execution_count": 19,
   "id": "dd1f250f",
   "metadata": {
    "ExecuteTime": {
     "end_time": "2022-11-23T05:45:08.496117Z",
     "start_time": "2022-11-23T05:45:08.477111Z"
    }
   },
   "outputs": [
    {
     "ename": "SyntaxError",
     "evalue": "invalid syntax (1202503517.py, line 1)",
     "output_type": "error",
     "traceback": [
      "\u001b[1;36m  File \u001b[1;32m\"C:\\Users\\User\\AppData\\Local\\Temp\\ipykernel_5664\\1202503517.py\"\u001b[1;36m, line \u001b[1;32m1\u001b[0m\n\u001b[1;33m    create string\u001b[0m\n\u001b[1;37m           ^\u001b[0m\n\u001b[1;31mSyntaxError\u001b[0m\u001b[1;31m:\u001b[0m invalid syntax\n"
     ]
    }
   ],
   "source": [
    "create string\n",
    "s ='We are learning Python project '\n"
   ]
  },
  {
   "cell_type": "code",
   "execution_count": null,
   "id": "387d2375",
   "metadata": {},
   "outputs": [],
   "source": []
  },
  {
   "cell_type": "code",
   "execution_count": 16,
   "id": "04d387db",
   "metadata": {
    "ExecuteTime": {
     "end_time": "2022-11-23T05:39:21.333780Z",
     "start_time": "2022-11-23T05:39:21.317784Z"
    },
    "scrolled": true
   },
   "outputs": [
    {
     "ename": "NameError",
     "evalue": "name 's' is not defined",
     "output_type": "error",
     "traceback": [
      "\u001b[1;31m---------------------------------------------------------------------------\u001b[0m",
      "\u001b[1;31mNameError\u001b[0m                                 Traceback (most recent call last)",
      "\u001b[1;32m~\\AppData\\Local\\Temp\\ipykernel_5664\\4166760247.py\u001b[0m in \u001b[0;36m<module>\u001b[1;34m\u001b[0m\n\u001b[1;32m----> 1\u001b[1;33m \u001b[0ms\u001b[0m\u001b[1;33m=\u001b[0m\u001b[0ms\u001b[0m\u001b[1;33m.\u001b[0m\u001b[0mreplace\u001b[0m\u001b[1;33m(\u001b[0m\u001b[1;33m)\u001b[0m\u001b[1;33m\u001b[0m\u001b[1;33m\u001b[0m\u001b[0m\n\u001b[0m",
      "\u001b[1;31mNameError\u001b[0m: name 's' is not defined"
     ]
    }
   ],
   "source": [
    "s=s.replace()"
   ]
  },
  {
   "cell_type": "markdown",
   "id": "4c4d921f",
   "metadata": {},
   "source": [
    "String methods"
   ]
  },
  {
   "cell_type": "code",
   "execution_count": 21,
   "id": "744094a8",
   "metadata": {
    "ExecuteTime": {
     "end_time": "2022-11-23T05:50:50.841291Z",
     "start_time": "2022-11-23T05:50:50.826300Z"
    }
   },
   "outputs": [],
   "source": [
    "#Create string\n",
    "s = 'We are learning Python project'"
   ]
  },
  {
   "cell_type": "code",
   "execution_count": 22,
   "id": "24495696",
   "metadata": {
    "ExecuteTime": {
     "end_time": "2022-11-23T05:51:21.390818Z",
     "start_time": "2022-11-23T05:51:21.373806Z"
    }
   },
   "outputs": [
    {
     "data": {
      "text/plain": [
       "'We are learning python project'"
      ]
     },
     "execution_count": 22,
     "metadata": {},
     "output_type": "execute_result"
    }
   ],
   "source": [
    "s.capitalize()"
   ]
  },
  {
   "cell_type": "markdown",
   "id": "f40a9852",
   "metadata": {},
   "source": [
    "# Typecasting"
   ]
  },
  {
   "cell_type": "code",
   "execution_count": 24,
   "id": "204632eb",
   "metadata": {
    "ExecuteTime": {
     "end_time": "2022-11-23T05:54:41.925390Z",
     "start_time": "2022-11-23T05:54:41.907399Z"
    }
   },
   "outputs": [
    {
     "data": {
      "text/plain": [
       "float"
      ]
     },
     "execution_count": 24,
     "metadata": {},
     "output_type": "execute_result"
    }
   ],
   "source": [
    "a = 10.8\n",
    "type(a)"
   ]
  },
  {
   "cell_type": "code",
   "execution_count": 25,
   "id": "9dd11b74",
   "metadata": {
    "ExecuteTime": {
     "end_time": "2022-11-23T05:54:47.874697Z",
     "start_time": "2022-11-23T05:54:47.852688Z"
    }
   },
   "outputs": [
    {
     "data": {
      "text/plain": [
       "10.8"
      ]
     },
     "execution_count": 25,
     "metadata": {},
     "output_type": "execute_result"
    }
   ],
   "source": [
    "a"
   ]
  },
  {
   "cell_type": "code",
   "execution_count": 27,
   "id": "c18477a8",
   "metadata": {
    "ExecuteTime": {
     "end_time": "2022-11-23T05:55:33.442695Z",
     "start_time": "2022-11-23T05:55:33.424703Z"
    }
   },
   "outputs": [
    {
     "ename": "NameError",
     "evalue": "name 'k' is not defined",
     "output_type": "error",
     "traceback": [
      "\u001b[1;31m---------------------------------------------------------------------------\u001b[0m",
      "\u001b[1;31mNameError\u001b[0m                                 Traceback (most recent call last)",
      "\u001b[1;32m~\\AppData\\Local\\Temp\\ipykernel_5664\\849804650.py\u001b[0m in \u001b[0;36m<module>\u001b[1;34m\u001b[0m\n\u001b[1;32m----> 1\u001b[1;33m \u001b[0mk\u001b[0m\u001b[1;33m-=\u001b[0m\u001b[1;36m10\u001b[0m\u001b[1;33m\u001b[0m\u001b[1;33m\u001b[0m\u001b[0m\n\u001b[0m",
      "\u001b[1;31mNameError\u001b[0m: name 'k' is not defined"
     ]
    }
   ],
   "source": [
    "k-=10"
   ]
  },
  {
   "cell_type": "code",
   "execution_count": 28,
   "id": "b067f1ba",
   "metadata": {
    "ExecuteTime": {
     "end_time": "2022-11-23T05:55:44.995742Z",
     "start_time": "2022-11-23T05:55:44.972754Z"
    }
   },
   "outputs": [
    {
     "ename": "NameError",
     "evalue": "name 'k' is not defined",
     "output_type": "error",
     "traceback": [
      "\u001b[1;31m---------------------------------------------------------------------------\u001b[0m",
      "\u001b[1;31mNameError\u001b[0m                                 Traceback (most recent call last)",
      "\u001b[1;32m~\\AppData\\Local\\Temp\\ipykernel_5664\\4071888102.py\u001b[0m in \u001b[0;36m<module>\u001b[1;34m\u001b[0m\n\u001b[1;32m----> 1\u001b[1;33m \u001b[0mfloat\u001b[0m\u001b[1;33m(\u001b[0m\u001b[0mk\u001b[0m\u001b[1;33m)\u001b[0m\u001b[1;33m\u001b[0m\u001b[1;33m\u001b[0m\u001b[0m\n\u001b[0m",
      "\u001b[1;31mNameError\u001b[0m: name 'k' is not defined"
     ]
    }
   ],
   "source": [
    "float(k)"
   ]
  },
  {
   "cell_type": "code",
   "execution_count": 29,
   "id": "f1b9df98",
   "metadata": {
    "ExecuteTime": {
     "end_time": "2022-11-23T05:56:02.301251Z",
     "start_time": "2022-11-23T05:56:02.293257Z"
    }
   },
   "outputs": [
    {
     "data": {
      "text/plain": [
       "10.8"
      ]
     },
     "execution_count": 29,
     "metadata": {},
     "output_type": "execute_result"
    }
   ],
   "source": [
    "a"
   ]
  },
  {
   "cell_type": "code",
   "execution_count": 30,
   "id": "a9028909",
   "metadata": {
    "ExecuteTime": {
     "end_time": "2022-11-23T05:56:08.211858Z",
     "start_time": "2022-11-23T05:56:08.203879Z"
    }
   },
   "outputs": [
    {
     "data": {
      "text/plain": [
       "10.8"
      ]
     },
     "execution_count": 30,
     "metadata": {},
     "output_type": "execute_result"
    }
   ],
   "source": [
    "a"
   ]
  },
  {
   "cell_type": "markdown",
   "id": "c905d490",
   "metadata": {},
   "source": [
    "# string method"
   ]
  },
  {
   "cell_type": "code",
   "execution_count": 31,
   "id": "e3c148e0",
   "metadata": {
    "ExecuteTime": {
     "end_time": "2022-11-23T05:57:02.426136Z",
     "start_time": "2022-11-23T05:57:02.412125Z"
    }
   },
   "outputs": [
    {
     "data": {
      "text/plain": [
       "'We are learning Python project'"
      ]
     },
     "execution_count": 31,
     "metadata": {},
     "output_type": "execute_result"
    }
   ],
   "source": [
    "s"
   ]
  },
  {
   "cell_type": "code",
   "execution_count": 32,
   "id": "962838af",
   "metadata": {
    "ExecuteTime": {
     "end_time": "2022-11-23T05:57:13.335679Z",
     "start_time": "2022-11-23T05:57:13.316708Z"
    }
   },
   "outputs": [
    {
     "data": {
      "text/plain": [
       "<function str.capitalize()>"
      ]
     },
     "execution_count": 32,
     "metadata": {},
     "output_type": "execute_result"
    }
   ],
   "source": [
    "s.capitalize"
   ]
  },
  {
   "cell_type": "code",
   "execution_count": 33,
   "id": "8dcc8bce",
   "metadata": {
    "ExecuteTime": {
     "end_time": "2022-11-23T05:57:41.898117Z",
     "start_time": "2022-11-23T05:57:41.883125Z"
    }
   },
   "outputs": [
    {
     "data": {
      "text/plain": [
       "'We are learning python'"
      ]
     },
     "execution_count": 33,
     "metadata": {},
     "output_type": "execute_result"
    }
   ],
   "source": [
    "'We are learning python'"
   ]
  },
  {
   "cell_type": "code",
   "execution_count": 34,
   "id": "6527d73e",
   "metadata": {
    "ExecuteTime": {
     "end_time": "2022-11-23T05:57:56.079171Z",
     "start_time": "2022-11-23T05:57:56.059180Z"
    }
   },
   "outputs": [
    {
     "data": {
      "text/plain": [
       "0"
      ]
     },
     "execution_count": 34,
     "metadata": {},
     "output_type": "execute_result"
    }
   ],
   "source": [
    "s.count('i)')"
   ]
  },
  {
   "cell_type": "code",
   "execution_count": 35,
   "id": "b03b6578",
   "metadata": {
    "ExecuteTime": {
     "end_time": "2022-11-23T05:58:13.812085Z",
     "start_time": "2022-11-23T05:58:13.791116Z"
    }
   },
   "outputs": [
    {
     "data": {
      "text/plain": [
       "False"
      ]
     },
     "execution_count": 35,
     "metadata": {},
     "output_type": "execute_result"
    }
   ],
   "source": [
    "s.endswith('n)')"
   ]
  },
  {
   "cell_type": "code",
   "execution_count": 36,
   "id": "d3cd25de",
   "metadata": {
    "ExecuteTime": {
     "end_time": "2022-11-23T05:58:19.993378Z",
     "start_time": "2022-11-23T05:58:19.974387Z"
    }
   },
   "outputs": [
    {
     "data": {
      "text/plain": [
       "'We are learning Python project'"
      ]
     },
     "execution_count": 36,
     "metadata": {},
     "output_type": "execute_result"
    }
   ],
   "source": [
    "s"
   ]
  },
  {
   "cell_type": "code",
   "execution_count": 37,
   "id": "cbb46b00",
   "metadata": {
    "ExecuteTime": {
     "end_time": "2022-11-23T05:58:29.187164Z",
     "start_time": "2022-11-23T05:58:29.169173Z"
    }
   },
   "outputs": [
    {
     "data": {
      "text/plain": [
       "3"
      ]
     },
     "execution_count": 37,
     "metadata": {},
     "output_type": "execute_result"
    }
   ],
   "source": [
    "s.find('are')"
   ]
  },
  {
   "cell_type": "code",
   "execution_count": 38,
   "id": "f2023d04",
   "metadata": {
    "ExecuteTime": {
     "end_time": "2022-11-23T05:58:47.134695Z",
     "start_time": "2022-11-23T05:58:47.117684Z"
    }
   },
   "outputs": [],
   "source": [
    "s='We are learning python'"
   ]
  },
  {
   "cell_type": "raw",
   "id": "3d335021",
   "metadata": {
    "ExecuteTime": {
     "end_time": "2022-11-23T05:59:03.199024Z",
     "start_time": "2022-11-23T05:59:03.190028Z"
    }
   },
   "source": [
    "s.index('p')"
   ]
  },
  {
   "cell_type": "code",
   "execution_count": 40,
   "id": "15812bb7",
   "metadata": {
    "ExecuteTime": {
     "end_time": "2022-11-23T06:00:47.475743Z",
     "start_time": "2022-11-23T06:00:47.462754Z"
    }
   },
   "outputs": [
    {
     "data": {
      "text/plain": [
       "False"
      ]
     },
     "execution_count": 40,
     "metadata": {},
     "output_type": "execute_result"
    }
   ],
   "source": [
    "s.islower()"
   ]
  },
  {
   "cell_type": "code",
   "execution_count": 41,
   "id": "b53b4858",
   "metadata": {
    "ExecuteTime": {
     "end_time": "2022-11-23T06:01:06.719052Z",
     "start_time": "2022-11-23T06:01:06.698047Z"
    }
   },
   "outputs": [
    {
     "data": {
      "text/plain": [
       "'Wnen nanrnen nlnenanrnnninnngn npnyntnhnonn'"
      ]
     },
     "execution_count": 41,
     "metadata": {},
     "output_type": "execute_result"
    }
   ],
   "source": [
    "'n'.join(s)"
   ]
  },
  {
   "cell_type": "code",
   "execution_count": 42,
   "id": "8ba981ec",
   "metadata": {
    "ExecuteTime": {
     "end_time": "2022-11-23T06:01:14.395487Z",
     "start_time": "2022-11-23T06:01:14.380497Z"
    }
   },
   "outputs": [
    {
     "data": {
      "text/plain": [
       "'We are learning python'"
      ]
     },
     "execution_count": 42,
     "metadata": {},
     "output_type": "execute_result"
    }
   ],
   "source": [
    "s"
   ]
  },
  {
   "cell_type": "code",
   "execution_count": 43,
   "id": "9c1056c0",
   "metadata": {
    "ExecuteTime": {
     "end_time": "2022-11-23T06:01:38.303594Z",
     "start_time": "2022-11-23T06:01:38.294592Z"
    }
   },
   "outputs": [],
   "source": [
    "s=s.replace('','-')"
   ]
  },
  {
   "cell_type": "code",
   "execution_count": 44,
   "id": "f046e23d",
   "metadata": {
    "ExecuteTime": {
     "end_time": "2022-11-23T06:01:47.013894Z",
     "start_time": "2022-11-23T06:01:46.997904Z"
    }
   },
   "outputs": [
    {
     "data": {
      "text/plain": [
       "'-W-e- -a-r-e- -l-e-a-r-n-i-n-g- -p-y-t-h-o-n-'"
      ]
     },
     "execution_count": 44,
     "metadata": {},
     "output_type": "execute_result"
    }
   ],
   "source": [
    "s"
   ]
  },
  {
   "cell_type": "code",
   "execution_count": 46,
   "id": "b171c026",
   "metadata": {
    "ExecuteTime": {
     "end_time": "2022-11-23T06:03:15.825219Z",
     "start_time": "2022-11-23T06:03:15.816223Z"
    }
   },
   "outputs": [
    {
     "data": {
      "text/plain": [
       "'-W-e- -a-r-e- -l-e-a-r-n-i-n-g- -p-y-t-h-o-n-'"
      ]
     },
     "execution_count": 46,
     "metadata": {},
     "output_type": "execute_result"
    }
   ],
   "source": [
    "s.replace('We','They')"
   ]
  },
  {
   "cell_type": "code",
   "execution_count": 47,
   "id": "ce90d7b0",
   "metadata": {
    "ExecuteTime": {
     "end_time": "2022-11-23T06:04:20.515062Z",
     "start_time": "2022-11-23T06:04:20.499068Z"
    }
   },
   "outputs": [
    {
     "data": {
      "text/plain": [
       "'-W-e- -a-r-e- -l-e-a-r-n-i-n-g- -p-y-t-h-o-n-'"
      ]
     },
     "execution_count": 47,
     "metadata": {},
     "output_type": "execute_result"
    }
   ],
   "source": [
    "s.replace('We','They')"
   ]
  },
  {
   "cell_type": "code",
   "execution_count": 51,
   "id": "b05754e0",
   "metadata": {
    "ExecuteTime": {
     "end_time": "2022-11-23T06:08:35.315173Z",
     "start_time": "2022-11-23T06:08:35.296185Z"
    }
   },
   "outputs": [
    {
     "name": "stdout",
     "output_type": "stream",
     "text": [
      "We/are/learning/python\n"
     ]
    }
   ],
   "source": [
    "s=s.replace('-','*')\n",
    "print(s)"
   ]
  },
  {
   "cell_type": "code",
   "execution_count": 49,
   "id": "afd3ca54",
   "metadata": {
    "ExecuteTime": {
     "end_time": "2022-11-23T06:07:28.661300Z",
     "start_time": "2022-11-23T06:07:28.646304Z"
    }
   },
   "outputs": [],
   "source": [
    "s='We/are/learning/python'"
   ]
  },
  {
   "cell_type": "code",
   "execution_count": 50,
   "id": "7bff1ff6",
   "metadata": {
    "ExecuteTime": {
     "end_time": "2022-11-23T06:07:52.265131Z",
     "start_time": "2022-11-23T06:07:52.250140Z"
    }
   },
   "outputs": [
    {
     "data": {
      "text/plain": [
       "['We', 'are', 'learning', 'python']"
      ]
     },
     "execution_count": 50,
     "metadata": {},
     "output_type": "execute_result"
    }
   ],
   "source": [
    "s.split('/')"
   ]
  },
  {
   "cell_type": "code",
   "execution_count": null,
   "id": "435d4c78",
   "metadata": {},
   "outputs": [],
   "source": []
  },
  {
   "cell_type": "code",
   "execution_count": null,
   "id": "92b4f108",
   "metadata": {},
   "outputs": [],
   "source": []
  },
  {
   "cell_type": "markdown",
   "id": "872a9fee",
   "metadata": {},
   "source": [
    "# Data Structures\n",
    "1.List\n",
    "2.Tuple\n",
    "3. Dictionary\n",
    "4.Sets"
   ]
  },
  {
   "cell_type": "markdown",
   "id": "4a600a54",
   "metadata": {},
   "source": [
    "# List\n",
    "Lists are biult in data structures in python"
   ]
  },
  {
   "cell_type": "code",
   "execution_count": 1,
   "id": "703b6c9b",
   "metadata": {
    "ExecuteTime": {
     "end_time": "2022-11-24T04:42:22.239606Z",
     "start_time": "2022-11-24T04:42:22.222614Z"
    }
   },
   "outputs": [],
   "source": [
    "#creating list"
   ]
  },
  {
   "cell_type": "code",
   "execution_count": 2,
   "id": "9afc1279",
   "metadata": {
    "ExecuteTime": {
     "end_time": "2022-11-24T04:42:40.314967Z",
     "start_time": "2022-11-24T04:42:40.269994Z"
    }
   },
   "outputs": [],
   "source": [
    "lst=[]"
   ]
  },
  {
   "cell_type": "code",
   "execution_count": 3,
   "id": "a456b397",
   "metadata": {
    "ExecuteTime": {
     "end_time": "2022-11-24T04:43:02.047094Z",
     "start_time": "2022-11-24T04:43:02.016111Z"
    }
   },
   "outputs": [
    {
     "data": {
      "text/plain": [
       "list"
      ]
     },
     "execution_count": 3,
     "metadata": {},
     "output_type": "execute_result"
    }
   ],
   "source": [
    "type(lst)"
   ]
  },
  {
   "cell_type": "code",
   "execution_count": 4,
   "id": "a83c05d8",
   "metadata": {
    "ExecuteTime": {
     "end_time": "2022-11-24T04:43:55.942927Z",
     "start_time": "2022-11-24T04:43:55.935932Z"
    }
   },
   "outputs": [],
   "source": [
    "lst=[10,10.5,True,'Hello']"
   ]
  },
  {
   "cell_type": "code",
   "execution_count": 5,
   "id": "4816ba2d",
   "metadata": {
    "ExecuteTime": {
     "end_time": "2022-11-24T04:44:27.238676Z",
     "start_time": "2022-11-24T04:44:27.230678Z"
    }
   },
   "outputs": [
    {
     "data": {
      "text/plain": [
       "list"
      ]
     },
     "execution_count": 5,
     "metadata": {},
     "output_type": "execute_result"
    }
   ],
   "source": [
    "type(lst)"
   ]
  },
  {
   "cell_type": "code",
   "execution_count": 6,
   "id": "345b6856",
   "metadata": {
    "ExecuteTime": {
     "end_time": "2022-11-24T04:44:47.381820Z",
     "start_time": "2022-11-24T04:44:47.061004Z"
    }
   },
   "outputs": [
    {
     "ename": "TypeError",
     "evalue": "'list' object is not callable",
     "output_type": "error",
     "traceback": [
      "\u001b[1;31m---------------------------------------------------------------------------\u001b[0m",
      "\u001b[1;31mTypeError\u001b[0m                                 Traceback (most recent call last)",
      "\u001b[1;32m~\\AppData\\Local\\Temp\\ipykernel_14872\\908599490.py\u001b[0m in \u001b[0;36m<module>\u001b[1;34m\u001b[0m\n\u001b[1;32m----> 1\u001b[1;33m \u001b[0mlst1\u001b[0m\u001b[1;33m=\u001b[0m\u001b[0mlst\u001b[0m\u001b[1;33m(\u001b[0m\u001b[1;33m)\u001b[0m\u001b[1;33m\u001b[0m\u001b[1;33m\u001b[0m\u001b[0m\n\u001b[0m",
      "\u001b[1;31mTypeError\u001b[0m: 'list' object is not callable"
     ]
    }
   ],
   "source": [
    "lst1=lst()"
   ]
  },
  {
   "cell_type": "code",
   "execution_count": 7,
   "id": "452fa214",
   "metadata": {
    "ExecuteTime": {
     "end_time": "2022-11-24T04:45:02.405070Z",
     "start_time": "2022-11-24T04:45:02.393074Z"
    }
   },
   "outputs": [
    {
     "ename": "NameError",
     "evalue": "name 'lst1' is not defined",
     "output_type": "error",
     "traceback": [
      "\u001b[1;31m---------------------------------------------------------------------------\u001b[0m",
      "\u001b[1;31mNameError\u001b[0m                                 Traceback (most recent call last)",
      "\u001b[1;32m~\\AppData\\Local\\Temp\\ipykernel_14872\\3811572125.py\u001b[0m in \u001b[0;36m<module>\u001b[1;34m\u001b[0m\n\u001b[1;32m----> 1\u001b[1;33m \u001b[0mtype\u001b[0m\u001b[1;33m(\u001b[0m\u001b[0mlst1\u001b[0m\u001b[1;33m)\u001b[0m\u001b[1;33m\u001b[0m\u001b[1;33m\u001b[0m\u001b[0m\n\u001b[0m",
      "\u001b[1;31mNameError\u001b[0m: name 'lst1' is not defined"
     ]
    }
   ],
   "source": [
    "type(lst1)"
   ]
  },
  {
   "cell_type": "code",
   "execution_count": 8,
   "id": "cc75ffb5",
   "metadata": {
    "ExecuteTime": {
     "end_time": "2022-11-24T04:45:57.422448Z",
     "start_time": "2022-11-24T04:45:57.409455Z"
    }
   },
   "outputs": [],
   "source": [
    "lst=list()"
   ]
  },
  {
   "cell_type": "code",
   "execution_count": 9,
   "id": "91fc036e",
   "metadata": {
    "ExecuteTime": {
     "end_time": "2022-11-24T04:46:05.940922Z",
     "start_time": "2022-11-24T04:46:05.915934Z"
    }
   },
   "outputs": [
    {
     "ename": "NameError",
     "evalue": "name 'lst1' is not defined",
     "output_type": "error",
     "traceback": [
      "\u001b[1;31m---------------------------------------------------------------------------\u001b[0m",
      "\u001b[1;31mNameError\u001b[0m                                 Traceback (most recent call last)",
      "\u001b[1;32m~\\AppData\\Local\\Temp\\ipykernel_14872\\3811572125.py\u001b[0m in \u001b[0;36m<module>\u001b[1;34m\u001b[0m\n\u001b[1;32m----> 1\u001b[1;33m \u001b[0mtype\u001b[0m\u001b[1;33m(\u001b[0m\u001b[0mlst1\u001b[0m\u001b[1;33m)\u001b[0m\u001b[1;33m\u001b[0m\u001b[1;33m\u001b[0m\u001b[0m\n\u001b[0m",
      "\u001b[1;31mNameError\u001b[0m: name 'lst1' is not defined"
     ]
    }
   ],
   "source": [
    "type(lst1)"
   ]
  },
  {
   "cell_type": "code",
   "execution_count": 12,
   "id": "e8fd54b3",
   "metadata": {
    "ExecuteTime": {
     "end_time": "2022-11-24T04:49:04.763240Z",
     "start_time": "2022-11-24T04:49:04.740254Z"
    }
   },
   "outputs": [
    {
     "ename": "NameError",
     "evalue": "name 'list1' is not defined",
     "output_type": "error",
     "traceback": [
      "\u001b[1;31m---------------------------------------------------------------------------\u001b[0m",
      "\u001b[1;31mNameError\u001b[0m                                 Traceback (most recent call last)",
      "\u001b[1;32m~\\AppData\\Local\\Temp\\ipykernel_14872\\4067127779.py\u001b[0m in \u001b[0;36m<module>\u001b[1;34m\u001b[0m\n\u001b[1;32m----> 1\u001b[1;33m \u001b[0mtype\u001b[0m\u001b[1;33m(\u001b[0m\u001b[0mlist1\u001b[0m\u001b[1;33m)\u001b[0m\u001b[1;33m\u001b[0m\u001b[1;33m\u001b[0m\u001b[0m\n\u001b[0m",
      "\u001b[1;31mNameError\u001b[0m: name 'list1' is not defined"
     ]
    }
   ],
   "source": [
    "type(list1)"
   ]
  },
  {
   "cell_type": "code",
   "execution_count": 13,
   "id": "df26602f",
   "metadata": {
    "ExecuteTime": {
     "end_time": "2022-11-24T04:51:45.301301Z",
     "start_time": "2022-11-24T04:51:45.289292Z"
    }
   },
   "outputs": [
    {
     "ename": "IndexError",
     "evalue": "list index out of range",
     "output_type": "error",
     "traceback": [
      "\u001b[1;31m---------------------------------------------------------------------------\u001b[0m",
      "\u001b[1;31mIndexError\u001b[0m                                Traceback (most recent call last)",
      "\u001b[1;32m~\\AppData\\Local\\Temp\\ipykernel_14872\\2040810290.py\u001b[0m in \u001b[0;36m<module>\u001b[1;34m\u001b[0m\n\u001b[0;32m      1\u001b[0m \u001b[1;31m#Accessing elements from a list\u001b[0m\u001b[1;33m\u001b[0m\u001b[1;33m\u001b[0m\u001b[0m\n\u001b[1;32m----> 2\u001b[1;33m \u001b[0mlst\u001b[0m\u001b[1;33m[\u001b[0m\u001b[1;36m3\u001b[0m\u001b[1;33m]\u001b[0m\u001b[1;33m\u001b[0m\u001b[1;33m\u001b[0m\u001b[0m\n\u001b[0m",
      "\u001b[1;31mIndexError\u001b[0m: list index out of range"
     ]
    }
   ],
   "source": [
    "#Accessing elements from a list\n",
    "lst[3]"
   ]
  },
  {
   "cell_type": "code",
   "execution_count": 14,
   "id": "ecfcf5a5",
   "metadata": {
    "ExecuteTime": {
     "end_time": "2022-11-24T04:52:53.855762Z",
     "start_time": "2022-11-24T04:52:53.847750Z"
    }
   },
   "outputs": [
    {
     "data": {
      "text/plain": [
       "[]"
      ]
     },
     "execution_count": 14,
     "metadata": {},
     "output_type": "execute_result"
    }
   ],
   "source": [
    "lst[1:3]"
   ]
  },
  {
   "cell_type": "code",
   "execution_count": 15,
   "id": "76c23c34",
   "metadata": {
    "ExecuteTime": {
     "end_time": "2022-11-24T04:55:31.060250Z",
     "start_time": "2022-11-24T04:55:31.045259Z"
    }
   },
   "outputs": [],
   "source": [
    "lst.append(1000)"
   ]
  },
  {
   "cell_type": "code",
   "execution_count": 16,
   "id": "02f2d348",
   "metadata": {
    "ExecuteTime": {
     "end_time": "2022-11-24T04:55:34.637715Z",
     "start_time": "2022-11-24T04:55:34.616709Z"
    }
   },
   "outputs": [
    {
     "data": {
      "text/plain": [
       "[1000]"
      ]
     },
     "execution_count": 16,
     "metadata": {},
     "output_type": "execute_result"
    }
   ],
   "source": [
    "lst"
   ]
  },
  {
   "cell_type": "markdown",
   "id": "1605ca0a",
   "metadata": {},
   "source": [
    "# List\n",
    "Lists are the built in structure in python\n",
    "list vare heterogenous data structure\n",
    "lists are mutabale"
   ]
  },
  {
   "cell_type": "markdown",
   "id": "0e418814",
   "metadata": {},
   "source": [
    "#Creating Lists"
   ]
  },
  {
   "cell_type": "code",
   "execution_count": 17,
   "id": "4a7a5cf8",
   "metadata": {
    "ExecuteTime": {
     "end_time": "2022-11-24T05:06:57.600333Z",
     "start_time": "2022-11-24T05:06:57.583339Z"
    }
   },
   "outputs": [],
   "source": [
    "lst=[\n",
    "    \n",
    "]"
   ]
  },
  {
   "cell_type": "code",
   "execution_count": 18,
   "id": "55f0b5e4",
   "metadata": {
    "ExecuteTime": {
     "end_time": "2022-11-24T05:07:07.337168Z",
     "start_time": "2022-11-24T05:07:07.326157Z"
    }
   },
   "outputs": [
    {
     "data": {
      "text/plain": [
       "list"
      ]
     },
     "execution_count": 18,
     "metadata": {},
     "output_type": "execute_result"
    }
   ],
   "source": [
    "type(lst)"
   ]
  },
  {
   "cell_type": "code",
   "execution_count": 19,
   "id": "7f211171",
   "metadata": {
    "ExecuteTime": {
     "end_time": "2022-11-24T05:07:11.747236Z",
     "start_time": "2022-11-24T05:07:11.735221Z"
    }
   },
   "outputs": [
    {
     "data": {
      "text/plain": [
       "list"
      ]
     },
     "execution_count": 19,
     "metadata": {},
     "output_type": "execute_result"
    }
   ],
   "source": [
    "list"
   ]
  },
  {
   "cell_type": "code",
   "execution_count": 20,
   "id": "63fbd874",
   "metadata": {
    "ExecuteTime": {
     "end_time": "2022-11-24T05:07:30.835664Z",
     "start_time": "2022-11-24T05:07:30.829667Z"
    }
   },
   "outputs": [],
   "source": [
    "lst=[10,10.5,True,'Hello']"
   ]
  },
  {
   "cell_type": "code",
   "execution_count": 21,
   "id": "9e5fcddc",
   "metadata": {
    "ExecuteTime": {
     "end_time": "2022-11-24T05:07:37.752630Z",
     "start_time": "2022-11-24T05:07:37.734618Z"
    }
   },
   "outputs": [
    {
     "data": {
      "text/plain": [
       "[10, 10.5, True, 'Hello']"
      ]
     },
     "execution_count": 21,
     "metadata": {},
     "output_type": "execute_result"
    }
   ],
   "source": [
    "lst\n"
   ]
  },
  {
   "cell_type": "code",
   "execution_count": 22,
   "id": "a413d5ee",
   "metadata": {
    "ExecuteTime": {
     "end_time": "2022-11-24T05:08:04.134806Z",
     "start_time": "2022-11-24T05:08:04.122795Z"
    }
   },
   "outputs": [
    {
     "data": {
      "text/plain": [
       "list"
      ]
     },
     "execution_count": 22,
     "metadata": {},
     "output_type": "execute_result"
    }
   ],
   "source": [
    "type(lst)"
   ]
  },
  {
   "cell_type": "code",
   "execution_count": 23,
   "id": "a74cdb54",
   "metadata": {
    "ExecuteTime": {
     "end_time": "2022-11-24T05:08:21.257863Z",
     "start_time": "2022-11-24T05:08:21.242868Z"
    }
   },
   "outputs": [],
   "source": [
    "lst1=list()"
   ]
  },
  {
   "cell_type": "code",
   "execution_count": 25,
   "id": "e4f2b95b",
   "metadata": {
    "ExecuteTime": {
     "end_time": "2022-11-24T05:08:54.563055Z",
     "start_time": "2022-11-24T05:08:54.547041Z"
    }
   },
   "outputs": [
    {
     "data": {
      "text/plain": [
       "list"
      ]
     },
     "execution_count": 25,
     "metadata": {},
     "output_type": "execute_result"
    }
   ],
   "source": [
    "type(lst1)"
   ]
  },
  {
   "cell_type": "code",
   "execution_count": 26,
   "id": "32c5fb92",
   "metadata": {
    "ExecuteTime": {
     "end_time": "2022-11-24T05:09:04.975297Z",
     "start_time": "2022-11-24T05:09:04.954285Z"
    }
   },
   "outputs": [
    {
     "data": {
      "text/plain": [
       "[10, 10.5, True, 'Hello']"
      ]
     },
     "execution_count": 26,
     "metadata": {},
     "output_type": "execute_result"
    }
   ],
   "source": [
    "lst"
   ]
  },
  {
   "cell_type": "code",
   "execution_count": 27,
   "id": "9637076d",
   "metadata": {
    "ExecuteTime": {
     "end_time": "2022-11-24T05:09:27.378759Z",
     "start_time": "2022-11-24T05:09:27.370783Z"
    }
   },
   "outputs": [
    {
     "data": {
      "text/plain": [
       "'Hello'"
      ]
     },
     "execution_count": 27,
     "metadata": {},
     "output_type": "execute_result"
    }
   ],
   "source": [
    "#Accessing elements from a list\n",
    "lst[3]"
   ]
  },
  {
   "cell_type": "code",
   "execution_count": 28,
   "id": "115f1221",
   "metadata": {
    "ExecuteTime": {
     "end_time": "2022-11-24T05:09:38.406622Z",
     "start_time": "2022-11-24T05:09:38.388627Z"
    }
   },
   "outputs": [
    {
     "data": {
      "text/plain": [
       "[10.5, True]"
      ]
     },
     "execution_count": 28,
     "metadata": {},
     "output_type": "execute_result"
    }
   ],
   "source": [
    "lst[1:3]"
   ]
  },
  {
   "cell_type": "code",
   "execution_count": 29,
   "id": "546f1cc8",
   "metadata": {
    "ExecuteTime": {
     "end_time": "2022-11-24T05:10:02.889765Z",
     "start_time": "2022-11-24T05:10:02.878774Z"
    }
   },
   "outputs": [
    {
     "data": {
      "text/plain": [
       "'Hello'"
      ]
     },
     "execution_count": 29,
     "metadata": {},
     "output_type": "execute_result"
    }
   ],
   "source": [
    "lst[-1]"
   ]
  },
  {
   "cell_type": "code",
   "execution_count": 30,
   "id": "43f8beda",
   "metadata": {
    "ExecuteTime": {
     "end_time": "2022-11-24T05:10:10.658525Z",
     "start_time": "2022-11-24T05:10:10.640535Z"
    }
   },
   "outputs": [],
   "source": [
    "#append"
   ]
  },
  {
   "cell_type": "code",
   "execution_count": 32,
   "id": "e152981e",
   "metadata": {
    "ExecuteTime": {
     "end_time": "2022-11-24T05:10:39.645865Z",
     "start_time": "2022-11-24T05:10:39.627873Z"
    }
   },
   "outputs": [],
   "source": [
    "lst.append(1000)"
   ]
  },
  {
   "cell_type": "code",
   "execution_count": 33,
   "id": "f90e2764",
   "metadata": {
    "ExecuteTime": {
     "end_time": "2022-11-24T05:10:49.770108Z",
     "start_time": "2022-11-24T05:10:49.751097Z"
    }
   },
   "outputs": [
    {
     "data": {
      "text/plain": [
       "[10, 10.5, True, 'Hello', 1000]"
      ]
     },
     "execution_count": 33,
     "metadata": {},
     "output_type": "execute_result"
    }
   ],
   "source": [
    "lst"
   ]
  },
  {
   "cell_type": "code",
   "execution_count": 34,
   "id": "10bae309",
   "metadata": {
    "ExecuteTime": {
     "end_time": "2022-11-24T05:11:37.887552Z",
     "start_time": "2022-11-24T05:11:37.875554Z"
    }
   },
   "outputs": [],
   "source": [
    "#count"
   ]
  },
  {
   "cell_type": "code",
   "execution_count": 35,
   "id": "d6a64aba",
   "metadata": {
    "ExecuteTime": {
     "end_time": "2022-11-24T05:11:46.907701Z",
     "start_time": "2022-11-24T05:11:46.892710Z"
    }
   },
   "outputs": [
    {
     "data": {
      "text/plain": [
       "1"
      ]
     },
     "execution_count": 35,
     "metadata": {},
     "output_type": "execute_result"
    }
   ],
   "source": [
    "lst.count(1000)"
   ]
  },
  {
   "cell_type": "code",
   "execution_count": 36,
   "id": "dc7410cf",
   "metadata": {
    "ExecuteTime": {
     "end_time": "2022-11-24T05:11:56.090274Z",
     "start_time": "2022-11-24T05:11:56.081278Z"
    }
   },
   "outputs": [
    {
     "data": {
      "text/plain": [
       "0"
      ]
     },
     "execution_count": 36,
     "metadata": {},
     "output_type": "execute_result"
    }
   ],
   "source": [
    "lst.count(50)"
   ]
  },
  {
   "cell_type": "code",
   "execution_count": 37,
   "id": "851beeef",
   "metadata": {
    "ExecuteTime": {
     "end_time": "2022-11-24T05:12:04.321949Z",
     "start_time": "2022-11-24T05:12:04.302944Z"
    }
   },
   "outputs": [],
   "source": [
    "#Index"
   ]
  },
  {
   "cell_type": "code",
   "execution_count": 38,
   "id": "b8c7b0be",
   "metadata": {
    "ExecuteTime": {
     "end_time": "2022-11-24T05:12:15.181092Z",
     "start_time": "2022-11-24T05:12:15.171096Z"
    }
   },
   "outputs": [
    {
     "data": {
      "text/plain": [
       "1"
      ]
     },
     "execution_count": 38,
     "metadata": {},
     "output_type": "execute_result"
    }
   ],
   "source": [
    "lst.index(10.5)"
   ]
  },
  {
   "cell_type": "code",
   "execution_count": 39,
   "id": "9d1f01f6",
   "metadata": {
    "ExecuteTime": {
     "end_time": "2022-11-24T05:12:50.682336Z",
     "start_time": "2022-11-24T05:12:50.668358Z"
    }
   },
   "outputs": [
    {
     "data": {
      "text/plain": [
       "[10, 10.5, True, 'Hello', 1000]"
      ]
     },
     "execution_count": 39,
     "metadata": {},
     "output_type": "execute_result"
    }
   ],
   "source": [
    "lst"
   ]
  },
  {
   "cell_type": "code",
   "execution_count": 40,
   "id": "e6155723",
   "metadata": {
    "ExecuteTime": {
     "end_time": "2022-11-24T05:13:30.499723Z",
     "start_time": "2022-11-24T05:13:30.490729Z"
    }
   },
   "outputs": [],
   "source": [
    "#Insert"
   ]
  },
  {
   "cell_type": "code",
   "execution_count": 41,
   "id": "8113db41",
   "metadata": {
    "ExecuteTime": {
     "end_time": "2022-11-24T05:14:53.528729Z",
     "start_time": "2022-11-24T05:14:53.510738Z"
    }
   },
   "outputs": [],
   "source": [
    "lst.insert(0,50)"
   ]
  },
  {
   "cell_type": "code",
   "execution_count": 42,
   "id": "ff7a8e7d",
   "metadata": {
    "ExecuteTime": {
     "end_time": "2022-11-24T05:14:59.535788Z",
     "start_time": "2022-11-24T05:14:59.523794Z"
    }
   },
   "outputs": [
    {
     "data": {
      "text/plain": [
       "[50, 10, 10.5, True, 'Hello', 1000]"
      ]
     },
     "execution_count": 42,
     "metadata": {},
     "output_type": "execute_result"
    }
   ],
   "source": [
    "lst"
   ]
  },
  {
   "cell_type": "code",
   "execution_count": 43,
   "id": "07227e01",
   "metadata": {
    "ExecuteTime": {
     "end_time": "2022-11-24T05:15:08.099176Z",
     "start_time": "2022-11-24T05:15:08.089183Z"
    }
   },
   "outputs": [],
   "source": [
    "#pop"
   ]
  },
  {
   "cell_type": "code",
   "execution_count": 44,
   "id": "b7cdf181",
   "metadata": {
    "ExecuteTime": {
     "end_time": "2022-11-24T05:15:25.593015Z",
     "start_time": "2022-11-24T05:15:25.584022Z"
    }
   },
   "outputs": [
    {
     "data": {
      "text/plain": [
       "[50, 10, 10.5, True, 'Hello', 1000]"
      ]
     },
     "execution_count": 44,
     "metadata": {},
     "output_type": "execute_result"
    }
   ],
   "source": [
    "lst"
   ]
  },
  {
   "cell_type": "code",
   "execution_count": 45,
   "id": "b31a2f28",
   "metadata": {
    "ExecuteTime": {
     "end_time": "2022-11-24T05:17:59.509877Z",
     "start_time": "2022-11-24T05:17:59.497882Z"
    }
   },
   "outputs": [
    {
     "data": {
      "text/plain": [
       "1000"
      ]
     },
     "execution_count": 45,
     "metadata": {},
     "output_type": "execute_result"
    }
   ],
   "source": [
    "lst.pop()"
   ]
  },
  {
   "cell_type": "code",
   "execution_count": 46,
   "id": "99879f68",
   "metadata": {
    "ExecuteTime": {
     "end_time": "2022-11-24T05:18:33.045605Z",
     "start_time": "2022-11-24T05:18:33.036610Z"
    }
   },
   "outputs": [
    {
     "data": {
      "text/plain": [
       "[50, 10, 10.5, True, 'Hello']"
      ]
     },
     "execution_count": 46,
     "metadata": {},
     "output_type": "execute_result"
    }
   ],
   "source": [
    "lst"
   ]
  },
  {
   "cell_type": "code",
   "execution_count": 47,
   "id": "14d66964",
   "metadata": {
    "ExecuteTime": {
     "end_time": "2022-11-24T05:18:40.383216Z",
     "start_time": "2022-11-24T05:18:40.367176Z"
    }
   },
   "outputs": [],
   "source": [
    "#reverse"
   ]
  },
  {
   "cell_type": "code",
   "execution_count": 48,
   "id": "8dcdd66c",
   "metadata": {
    "ExecuteTime": {
     "end_time": "2022-11-24T05:18:47.751385Z",
     "start_time": "2022-11-24T05:18:47.742389Z"
    }
   },
   "outputs": [],
   "source": [
    "lst.reverse()"
   ]
  },
  {
   "cell_type": "code",
   "execution_count": 49,
   "id": "57bc7a41",
   "metadata": {
    "ExecuteTime": {
     "end_time": "2022-11-24T05:18:54.512566Z",
     "start_time": "2022-11-24T05:18:54.505572Z"
    }
   },
   "outputs": [
    {
     "data": {
      "text/plain": [
       "['Hello', True, 10.5, 10, 50]"
      ]
     },
     "execution_count": 49,
     "metadata": {},
     "output_type": "execute_result"
    }
   ],
   "source": [
    "lst"
   ]
  },
  {
   "cell_type": "code",
   "execution_count": 50,
   "id": "5fa5e8cb",
   "metadata": {
    "ExecuteTime": {
     "end_time": "2022-11-24T05:19:01.017371Z",
     "start_time": "2022-11-24T05:19:01.000378Z"
    }
   },
   "outputs": [],
   "source": [
    "#remove"
   ]
  },
  {
   "cell_type": "code",
   "execution_count": 51,
   "id": "4c2606bb",
   "metadata": {
    "ExecuteTime": {
     "end_time": "2022-11-24T05:19:23.069267Z",
     "start_time": "2022-11-24T05:19:23.052274Z"
    }
   },
   "outputs": [],
   "source": [
    "lst.remove(10.5)"
   ]
  },
  {
   "cell_type": "code",
   "execution_count": 52,
   "id": "611c7339",
   "metadata": {
    "ExecuteTime": {
     "end_time": "2022-11-24T05:19:27.750362Z",
     "start_time": "2022-11-24T05:19:27.732372Z"
    }
   },
   "outputs": [
    {
     "data": {
      "text/plain": [
       "['Hello', True, 10, 50]"
      ]
     },
     "execution_count": 52,
     "metadata": {},
     "output_type": "execute_result"
    }
   ],
   "source": [
    "lst"
   ]
  },
  {
   "cell_type": "code",
   "execution_count": 53,
   "id": "19685e4e",
   "metadata": {
    "ExecuteTime": {
     "end_time": "2022-11-24T05:19:57.445049Z",
     "start_time": "2022-11-24T05:19:57.436051Z"
    }
   },
   "outputs": [],
   "source": [
    "#Replacing elements in lists"
   ]
  },
  {
   "cell_type": "code",
   "execution_count": 58,
   "id": "172dacdc",
   "metadata": {
    "ExecuteTime": {
     "end_time": "2022-11-24T05:34:05.234111Z",
     "start_time": "2022-11-24T05:34:05.215120Z"
    }
   },
   "outputs": [],
   "source": [
    "lst[1]=False"
   ]
  },
  {
   "cell_type": "code",
   "execution_count": null,
   "id": "a29a2995",
   "metadata": {},
   "outputs": [],
   "source": []
  },
  {
   "cell_type": "code",
   "execution_count": 55,
   "id": "cf7fd021",
   "metadata": {
    "ExecuteTime": {
     "end_time": "2022-11-24T05:20:38.057483Z",
     "start_time": "2022-11-24T05:20:38.043470Z"
    }
   },
   "outputs": [
    {
     "data": {
      "text/plain": [
       "['Hello', False, 10, 50]"
      ]
     },
     "execution_count": 55,
     "metadata": {},
     "output_type": "execute_result"
    }
   ],
   "source": [
    "lst"
   ]
  },
  {
   "cell_type": "code",
   "execution_count": 56,
   "id": "bc032485",
   "metadata": {
    "ExecuteTime": {
     "end_time": "2022-11-24T05:20:56.577799Z",
     "start_time": "2022-11-24T05:20:56.572802Z"
    }
   },
   "outputs": [],
   "source": [
    "lst[-1]=5000"
   ]
  },
  {
   "cell_type": "code",
   "execution_count": 57,
   "id": "74ba8eb0",
   "metadata": {
    "ExecuteTime": {
     "end_time": "2022-11-24T05:21:00.954433Z",
     "start_time": "2022-11-24T05:21:00.944400Z"
    }
   },
   "outputs": [
    {
     "data": {
      "text/plain": [
       "['Hello', False, 10, 5000]"
      ]
     },
     "execution_count": 57,
     "metadata": {},
     "output_type": "execute_result"
    }
   ],
   "source": [
    "lst"
   ]
  },
  {
   "cell_type": "markdown",
   "id": "ba8e640f",
   "metadata": {},
   "source": [
    "# Tuple\n",
    "Tuple are ordered and heterogenous datastucture\n",
    "Tuples are immutable"
   ]
  },
  {
   "cell_type": "code",
   "execution_count": 59,
   "id": "b6babfeb",
   "metadata": {
    "ExecuteTime": {
     "end_time": "2022-11-24T05:42:45.314280Z",
     "start_time": "2022-11-24T05:42:45.295292Z"
    }
   },
   "outputs": [],
   "source": [
    "#create a tuple\n",
    "t=(10,1.2,'Hi,1000',15.2)"
   ]
  },
  {
   "cell_type": "code",
   "execution_count": 60,
   "id": "434e3b37",
   "metadata": {
    "ExecuteTime": {
     "end_time": "2022-11-24T05:42:58.118749Z",
     "start_time": "2022-11-24T05:42:58.096762Z"
    }
   },
   "outputs": [
    {
     "data": {
      "text/plain": [
       "tuple"
      ]
     },
     "execution_count": 60,
     "metadata": {},
     "output_type": "execute_result"
    }
   ],
   "source": [
    "type(t)"
   ]
  },
  {
   "cell_type": "code",
   "execution_count": 61,
   "id": "b5f8681e",
   "metadata": {
    "ExecuteTime": {
     "end_time": "2022-11-24T05:43:06.154640Z",
     "start_time": "2022-11-24T05:43:06.133635Z"
    }
   },
   "outputs": [
    {
     "data": {
      "text/plain": [
       "(10, 1.2, 'Hi,1000', 15.2)"
      ]
     },
     "execution_count": 61,
     "metadata": {},
     "output_type": "execute_result"
    }
   ],
   "source": [
    "t"
   ]
  },
  {
   "cell_type": "code",
   "execution_count": 62,
   "id": "d755cdb7",
   "metadata": {
    "ExecuteTime": {
     "end_time": "2022-11-24T05:43:21.028980Z",
     "start_time": "2022-11-24T05:43:21.019986Z"
    }
   },
   "outputs": [
    {
     "data": {
      "text/plain": [
       "0"
      ]
     },
     "execution_count": 62,
     "metadata": {},
     "output_type": "execute_result"
    }
   ],
   "source": [
    "t.count(1000)"
   ]
  },
  {
   "cell_type": "code",
   "execution_count": 63,
   "id": "9ec49508",
   "metadata": {
    "ExecuteTime": {
     "end_time": "2022-11-24T05:43:52.363673Z",
     "start_time": "2022-11-24T05:43:52.358678Z"
    }
   },
   "outputs": [],
   "source": [
    "#Accessing elements from a Tuple"
   ]
  },
  {
   "cell_type": "code",
   "execution_count": 64,
   "id": "f41e43cb",
   "metadata": {
    "ExecuteTime": {
     "end_time": "2022-11-24T05:44:31.853595Z",
     "start_time": "2022-11-24T05:44:31.834589Z"
    }
   },
   "outputs": [
    {
     "ename": "IndexError",
     "evalue": "tuple index out of range",
     "output_type": "error",
     "traceback": [
      "\u001b[1;31m---------------------------------------------------------------------------\u001b[0m",
      "\u001b[1;31mIndexError\u001b[0m                                Traceback (most recent call last)",
      "\u001b[1;32m~\\AppData\\Local\\Temp\\ipykernel_14872\\549899172.py\u001b[0m in \u001b[0;36m<module>\u001b[1;34m\u001b[0m\n\u001b[1;32m----> 1\u001b[1;33m \u001b[0mt\u001b[0m\u001b[1;33m[\u001b[0m\u001b[1;36m4\u001b[0m\u001b[1;33m]\u001b[0m\u001b[1;33m\u001b[0m\u001b[1;33m\u001b[0m\u001b[0m\n\u001b[0m",
      "\u001b[1;31mIndexError\u001b[0m: tuple index out of range"
     ]
    }
   ],
   "source": [
    "t[4]"
   ]
  },
  {
   "cell_type": "code",
   "execution_count": 65,
   "id": "4cea6750",
   "metadata": {
    "ExecuteTime": {
     "end_time": "2022-11-24T05:45:37.527558Z",
     "start_time": "2022-11-24T05:45:37.518562Z"
    }
   },
   "outputs": [
    {
     "data": {
      "text/plain": [
       "('Hi,1000', 15.2)"
      ]
     },
     "execution_count": 65,
     "metadata": {},
     "output_type": "execute_result"
    }
   ],
   "source": [
    "t[2:]"
   ]
  },
  {
   "cell_type": "code",
   "execution_count": 66,
   "id": "d9781353",
   "metadata": {
    "ExecuteTime": {
     "end_time": "2022-11-24T05:45:54.594978Z",
     "start_time": "2022-11-24T05:45:54.570970Z"
    }
   },
   "outputs": [
    {
     "ename": "TypeError",
     "evalue": "'tuple' object does not support item assignment",
     "output_type": "error",
     "traceback": [
      "\u001b[1;31m---------------------------------------------------------------------------\u001b[0m",
      "\u001b[1;31mTypeError\u001b[0m                                 Traceback (most recent call last)",
      "\u001b[1;32m~\\AppData\\Local\\Temp\\ipykernel_14872\\3219227436.py\u001b[0m in \u001b[0;36m<module>\u001b[1;34m\u001b[0m\n\u001b[1;32m----> 1\u001b[1;33m \u001b[0mt\u001b[0m\u001b[1;33m[\u001b[0m\u001b[1;36m4\u001b[0m\u001b[1;33m]\u001b[0m\u001b[1;33m=\u001b[0m\u001b[1;36m200\u001b[0m\u001b[1;33m\u001b[0m\u001b[1;33m\u001b[0m\u001b[0m\n\u001b[0m",
      "\u001b[1;31mTypeError\u001b[0m: 'tuple' object does not support item assignment"
     ]
    }
   ],
   "source": [
    "t[4]=200"
   ]
  },
  {
   "cell_type": "code",
   "execution_count": 67,
   "id": "66f71d1f",
   "metadata": {
    "ExecuteTime": {
     "end_time": "2022-11-24T05:46:16.879216Z",
     "start_time": "2022-11-24T05:46:16.858207Z"
    }
   },
   "outputs": [
    {
     "ename": "SyntaxError",
     "evalue": "invalid syntax (4038993821.py, line 1)",
     "output_type": "error",
     "traceback": [
      "\u001b[1;36m  File \u001b[1;32m\"C:\\Users\\User\\AppData\\Local\\Temp\\ipykernel_14872\\4038993821.py\"\u001b[1;36m, line \u001b[1;32m1\u001b[0m\n\u001b[1;33m    Replacing elements\u001b[0m\n\u001b[1;37m              ^\u001b[0m\n\u001b[1;31mSyntaxError\u001b[0m\u001b[1;31m:\u001b[0m invalid syntax\n"
     ]
    }
   ],
   "source": [
    "Replacing elements"
   ]
  },
  {
   "cell_type": "code",
   "execution_count": 68,
   "id": "90eb012b",
   "metadata": {
    "ExecuteTime": {
     "end_time": "2022-11-24T05:46:28.600747Z",
     "start_time": "2022-11-24T05:46:28.581691Z"
    }
   },
   "outputs": [
    {
     "data": {
      "text/plain": [
       "(10, 1.2, 'Hi,1000', 15.2)"
      ]
     },
     "execution_count": 68,
     "metadata": {},
     "output_type": "execute_result"
    }
   ],
   "source": [
    "t"
   ]
  },
  {
   "cell_type": "code",
   "execution_count": 69,
   "id": "d59fc7a4",
   "metadata": {
    "ExecuteTime": {
     "end_time": "2022-11-24T05:46:44.392313Z",
     "start_time": "2022-11-24T05:46:44.372325Z"
    }
   },
   "outputs": [],
   "source": [
    "t=list(t)"
   ]
  },
  {
   "cell_type": "code",
   "execution_count": 70,
   "id": "c0060aa8",
   "metadata": {
    "ExecuteTime": {
     "end_time": "2022-11-24T05:46:54.317059Z",
     "start_time": "2022-11-24T05:46:54.309058Z"
    }
   },
   "outputs": [
    {
     "data": {
      "text/plain": [
       "list"
      ]
     },
     "execution_count": 70,
     "metadata": {},
     "output_type": "execute_result"
    }
   ],
   "source": [
    "type(t)"
   ]
  },
  {
   "cell_type": "code",
   "execution_count": 71,
   "id": "764e2a80",
   "metadata": {
    "ExecuteTime": {
     "end_time": "2022-11-24T05:47:01.603744Z",
     "start_time": "2022-11-24T05:47:01.589763Z"
    }
   },
   "outputs": [
    {
     "data": {
      "text/plain": [
       "[10, 1.2, 'Hi,1000', 15.2]"
      ]
     },
     "execution_count": 71,
     "metadata": {},
     "output_type": "execute_result"
    }
   ],
   "source": [
    "t"
   ]
  },
  {
   "cell_type": "code",
   "execution_count": 72,
   "id": "7db106b5",
   "metadata": {
    "ExecuteTime": {
     "end_time": "2022-11-24T05:47:23.431305Z",
     "start_time": "2022-11-24T05:47:23.416315Z"
    }
   },
   "outputs": [
    {
     "ename": "IndexError",
     "evalue": "list assignment index out of range",
     "output_type": "error",
     "traceback": [
      "\u001b[1;31m---------------------------------------------------------------------------\u001b[0m",
      "\u001b[1;31mIndexError\u001b[0m                                Traceback (most recent call last)",
      "\u001b[1;32m~\\AppData\\Local\\Temp\\ipykernel_14872\\3219227436.py\u001b[0m in \u001b[0;36m<module>\u001b[1;34m\u001b[0m\n\u001b[1;32m----> 1\u001b[1;33m \u001b[0mt\u001b[0m\u001b[1;33m[\u001b[0m\u001b[1;36m4\u001b[0m\u001b[1;33m]\u001b[0m\u001b[1;33m=\u001b[0m\u001b[1;36m200\u001b[0m\u001b[1;33m\u001b[0m\u001b[1;33m\u001b[0m\u001b[0m\n\u001b[0m",
      "\u001b[1;31mIndexError\u001b[0m: list assignment index out of range"
     ]
    }
   ],
   "source": [
    "t[4]=200"
   ]
  },
  {
   "cell_type": "code",
   "execution_count": 73,
   "id": "4c99ae4f",
   "metadata": {
    "ExecuteTime": {
     "end_time": "2022-11-24T05:47:48.897295Z",
     "start_time": "2022-11-24T05:47:48.880286Z"
    }
   },
   "outputs": [],
   "source": [
    "t=tuple(t)"
   ]
  },
  {
   "cell_type": "code",
   "execution_count": 74,
   "id": "783ea035",
   "metadata": {
    "ExecuteTime": {
     "end_time": "2022-11-24T05:47:53.731496Z",
     "start_time": "2022-11-24T05:47:53.714504Z"
    }
   },
   "outputs": [
    {
     "data": {
      "text/plain": [
       "(10, 1.2, 'Hi,1000', 15.2)"
      ]
     },
     "execution_count": 74,
     "metadata": {},
     "output_type": "execute_result"
    }
   ],
   "source": [
    "t"
   ]
  },
  {
   "cell_type": "code",
   "execution_count": 75,
   "id": "afabff7d",
   "metadata": {
    "ExecuteTime": {
     "end_time": "2022-11-24T05:48:20.891912Z",
     "start_time": "2022-11-24T05:48:20.884934Z"
    }
   },
   "outputs": [
    {
     "data": {
      "text/plain": [
       "tuple"
      ]
     },
     "execution_count": 75,
     "metadata": {},
     "output_type": "execute_result"
    }
   ],
   "source": [
    "type(t)"
   ]
  },
  {
   "cell_type": "markdown",
   "id": "5f650872",
   "metadata": {},
   "source": [
    "# Dictionary\n",
    "1.python dictionaries are ordered collection of items.\n",
    "2. dictionary is mutable data structure\n",
    "3. it has key and value pair"
   ]
  },
  {
   "cell_type": "code",
   "execution_count": 76,
   "id": "6c5bf00e",
   "metadata": {
    "ExecuteTime": {
     "end_time": "2022-11-24T05:50:00.606425Z",
     "start_time": "2022-11-24T05:50:00.589412Z"
    }
   },
   "outputs": [],
   "source": [
    "#Creating an empty dictionary"
   ]
  },
  {
   "cell_type": "code",
   "execution_count": 77,
   "id": "e43597ad",
   "metadata": {
    "ExecuteTime": {
     "end_time": "2022-11-24T05:50:27.182171Z",
     "start_time": "2022-11-24T05:50:27.162182Z"
    }
   },
   "outputs": [
    {
     "data": {
      "text/plain": [
       "dict"
      ]
     },
     "execution_count": 77,
     "metadata": {},
     "output_type": "execute_result"
    }
   ],
   "source": [
    "d={}\n",
    "type(d)"
   ]
  },
  {
   "cell_type": "code",
   "execution_count": 78,
   "id": "21901b5f",
   "metadata": {
    "ExecuteTime": {
     "end_time": "2022-11-24T05:50:51.507598Z",
     "start_time": "2022-11-24T05:50:51.492590Z"
    }
   },
   "outputs": [
    {
     "data": {
      "text/plain": [
       "dict"
      ]
     },
     "execution_count": 78,
     "metadata": {},
     "output_type": "execute_result"
    }
   ],
   "source": [
    "d1 = dict()\n",
    "type(d1)"
   ]
  },
  {
   "cell_type": "code",
   "execution_count": 79,
   "id": "3b5c12f0",
   "metadata": {
    "ExecuteTime": {
     "end_time": "2022-11-24T05:51:52.460039Z",
     "start_time": "2022-11-24T05:51:52.445046Z"
    }
   },
   "outputs": [],
   "source": [
    "#Adding element in a dictionary"
   ]
  },
  {
   "cell_type": "code",
   "execution_count": 81,
   "id": "5003e11a",
   "metadata": {
    "ExecuteTime": {
     "end_time": "2022-11-24T05:52:49.445886Z",
     "start_time": "2022-11-24T05:52:49.431872Z"
    }
   },
   "outputs": [],
   "source": [
    "d = {1:10,2:'A'#ad,3:True'}"
   ]
  },
  {
   "cell_type": "code",
   "execution_count": 82,
   "id": "02fa6d27",
   "metadata": {
    "ExecuteTime": {
     "end_time": "2022-11-24T05:53:04.230022Z",
     "start_time": "2022-11-24T05:53:04.209033Z"
    }
   },
   "outputs": [
    {
     "data": {
      "text/plain": [
       "{1: 10, 2: 'A,3:True'}"
      ]
     },
     "execution_count": 82,
     "metadata": {},
     "output_type": "execute_result"
    }
   ],
   "source": [
    "d"
   ]
  },
  {
   "cell_type": "code",
   "execution_count": 83,
   "id": "ef51c673",
   "metadata": {
    "ExecuteTime": {
     "end_time": "2022-11-24T05:53:37.517597Z",
     "start_time": "2022-11-24T05:53:37.503590Z"
    }
   },
   "outputs": [],
   "source": [
    "#get"
   ]
  },
  {
   "cell_type": "code",
   "execution_count": 84,
   "id": "8d2ff4df",
   "metadata": {
    "ExecuteTime": {
     "end_time": "2022-11-24T05:53:50.328276Z",
     "start_time": "2022-11-24T05:53:50.319279Z"
    }
   },
   "outputs": [
    {
     "data": {
      "text/plain": [
       "'A,3:True'"
      ]
     },
     "execution_count": 84,
     "metadata": {},
     "output_type": "execute_result"
    }
   ],
   "source": [
    "d.get(2)"
   ]
  },
  {
   "cell_type": "code",
   "execution_count": 85,
   "id": "fc157dc2",
   "metadata": {
    "ExecuteTime": {
     "end_time": "2022-11-24T05:53:58.576528Z",
     "start_time": "2022-11-24T05:53:58.566514Z"
    }
   },
   "outputs": [],
   "source": [
    "#items"
   ]
  },
  {
   "cell_type": "code",
   "execution_count": 86,
   "id": "74487a4d",
   "metadata": {
    "ExecuteTime": {
     "end_time": "2022-11-24T05:54:34.226810Z",
     "start_time": "2022-11-24T05:54:34.217818Z"
    }
   },
   "outputs": [
    {
     "data": {
      "text/plain": [
       "dict_items([(1, 10), (2, 'A,3:True')])"
      ]
     },
     "execution_count": 86,
     "metadata": {},
     "output_type": "execute_result"
    }
   ],
   "source": [
    "d.items()"
   ]
  },
  {
   "cell_type": "code",
   "execution_count": 87,
   "id": "a7918292",
   "metadata": {
    "ExecuteTime": {
     "end_time": "2022-11-24T05:54:47.332114Z",
     "start_time": "2022-11-24T05:54:47.319124Z"
    }
   },
   "outputs": [],
   "source": [
    "#keys"
   ]
  },
  {
   "cell_type": "code",
   "execution_count": 88,
   "id": "eb309d28",
   "metadata": {
    "ExecuteTime": {
     "end_time": "2022-11-24T05:54:59.410864Z",
     "start_time": "2022-11-24T05:54:59.400869Z"
    }
   },
   "outputs": [
    {
     "data": {
      "text/plain": [
       "dict_keys([1, 2])"
      ]
     },
     "execution_count": 88,
     "metadata": {},
     "output_type": "execute_result"
    }
   ],
   "source": [
    "d.keys()"
   ]
  },
  {
   "cell_type": "code",
   "execution_count": 91,
   "id": "270793df",
   "metadata": {
    "ExecuteTime": {
     "end_time": "2022-11-24T05:58:03.903610Z",
     "start_time": "2022-11-24T05:58:03.896632Z"
    }
   },
   "outputs": [],
   "source": [
    "#Adding values in dictionary(update)\n",
    "d.update({'car':'bmw'})"
   ]
  },
  {
   "cell_type": "code",
   "execution_count": 92,
   "id": "bf67af28",
   "metadata": {
    "ExecuteTime": {
     "end_time": "2022-11-24T05:58:13.273567Z",
     "start_time": "2022-11-24T05:58:13.256577Z"
    }
   },
   "outputs": [
    {
     "data": {
      "text/plain": [
       "{1: 10, 2: 'A,3:True', 'car': 'bmw'}"
      ]
     },
     "execution_count": 92,
     "metadata": {},
     "output_type": "execute_result"
    }
   ],
   "source": [
    "d"
   ]
  },
  {
   "cell_type": "code",
   "execution_count": 93,
   "id": "5bba966d",
   "metadata": {
    "ExecuteTime": {
     "end_time": "2022-11-24T05:58:24.556195Z",
     "start_time": "2022-11-24T05:58:24.538204Z"
    }
   },
   "outputs": [],
   "source": [
    "#pop"
   ]
  },
  {
   "cell_type": "code",
   "execution_count": 1,
   "id": "cbf05eac",
   "metadata": {
    "ExecuteTime": {
     "end_time": "2022-11-24T06:00:14.749694Z",
     "start_time": "2022-11-24T06:00:14.471840Z"
    }
   },
   "outputs": [
    {
     "ename": "NameError",
     "evalue": "name 'd' is not defined",
     "output_type": "error",
     "traceback": [
      "\u001b[1;31m---------------------------------------------------------------------------\u001b[0m",
      "\u001b[1;31mNameError\u001b[0m                                 Traceback (most recent call last)",
      "\u001b[1;32m~\\AppData\\Local\\Temp\\ipykernel_14276\\1497428280.py\u001b[0m in \u001b[0;36m<module>\u001b[1;34m\u001b[0m\n\u001b[1;32m----> 1\u001b[1;33m \u001b[0md\u001b[0m\u001b[1;33m.\u001b[0m\u001b[0mpop\u001b[0m\u001b[1;33m(\u001b[0m\u001b[1;36m3\u001b[0m\u001b[1;33m)\u001b[0m\u001b[1;33m\u001b[0m\u001b[1;33m\u001b[0m\u001b[0m\n\u001b[0m",
      "\u001b[1;31mNameError\u001b[0m: name 'd' is not defined"
     ]
    }
   ],
   "source": [
    "d.pop(3)"
   ]
  },
  {
   "cell_type": "code",
   "execution_count": 2,
   "id": "f63ccf94",
   "metadata": {
    "ExecuteTime": {
     "end_time": "2022-11-24T06:00:31.612602Z",
     "start_time": "2022-11-24T06:00:31.590613Z"
    },
    "scrolled": true
   },
   "outputs": [
    {
     "ename": "NameError",
     "evalue": "name 'd' is not defined",
     "output_type": "error",
     "traceback": [
      "\u001b[1;31m---------------------------------------------------------------------------\u001b[0m",
      "\u001b[1;31mNameError\u001b[0m                                 Traceback (most recent call last)",
      "\u001b[1;32m~\\AppData\\Local\\Temp\\ipykernel_14276\\3161387801.py\u001b[0m in \u001b[0;36m<module>\u001b[1;34m\u001b[0m\n\u001b[1;32m----> 1\u001b[1;33m \u001b[0md\u001b[0m\u001b[1;33m\u001b[0m\u001b[1;33m\u001b[0m\u001b[0m\n\u001b[0m",
      "\u001b[1;31mNameError\u001b[0m: name 'd' is not defined"
     ]
    }
   ],
   "source": [
    "d"
   ]
  },
  {
   "cell_type": "code",
   "execution_count": null,
   "id": "ba93b4f0",
   "metadata": {},
   "outputs": [],
   "source": []
  },
  {
   "cell_type": "code",
   "execution_count": null,
   "id": "ab09e2b3",
   "metadata": {},
   "outputs": [],
   "source": []
  },
  {
   "cell_type": "markdown",
   "id": "900407c1",
   "metadata": {},
   "source": [
    "**set** \n",
    "1.-set is a collection which is unordered, unindexed.\n",
    "2. set is immutable.\n",
    "3. set are unordered,so you cannot be sure in which order the items will appear.\n",
    "sets do not allow duplicate values.\n",
    "once set is created, you cannot change items , but you can remove items and add new items.\n",
    "As sets are unordered, they do not support indexing and slicing operations"
   ]
  },
  {
   "cell_type": "code",
   "execution_count": 5,
   "id": "d583f049",
   "metadata": {
    "ExecuteTime": {
     "end_time": "2022-11-24T06:14:08.390758Z",
     "start_time": "2022-11-24T06:14:08.376788Z"
    }
   },
   "outputs": [
    {
     "data": {
      "text/plain": [
       "set()"
      ]
     },
     "execution_count": 5,
     "metadata": {},
     "output_type": "execute_result"
    }
   ],
   "source": [
    "\n",
    "#creating new set\n",
    "s={1,2,3,10.5,'A'}\n",
    "s = set()\n",
    "type(s)\n",
    "s"
   ]
  },
  {
   "cell_type": "code",
   "execution_count": 6,
   "id": "598567c3",
   "metadata": {
    "ExecuteTime": {
     "end_time": "2022-11-24T06:14:56.355200Z",
     "start_time": "2022-11-24T06:14:56.343203Z"
    }
   },
   "outputs": [],
   "source": [
    "#1does not allow duplicate items\n",
    "s1={1,1,2,3,4,5}"
   ]
  },
  {
   "cell_type": "code",
   "execution_count": 7,
   "id": "6cdbd53f",
   "metadata": {
    "ExecuteTime": {
     "end_time": "2022-11-24T06:15:02.093454Z",
     "start_time": "2022-11-24T06:15:02.079462Z"
    }
   },
   "outputs": [
    {
     "data": {
      "text/plain": [
       "{1, 2, 3, 4, 5}"
      ]
     },
     "execution_count": 7,
     "metadata": {},
     "output_type": "execute_result"
    }
   ],
   "source": [
    "s1"
   ]
  },
  {
   "cell_type": "code",
   "execution_count": 8,
   "id": "ae24e6fb",
   "metadata": {
    "ExecuteTime": {
     "end_time": "2022-11-24T06:15:19.467636Z",
     "start_time": "2022-11-24T06:15:19.451644Z"
    }
   },
   "outputs": [],
   "source": [
    "#Does not support indexing"
   ]
  },
  {
   "cell_type": "code",
   "execution_count": 9,
   "id": "48020116",
   "metadata": {
    "ExecuteTime": {
     "end_time": "2022-11-24T06:15:35.632608Z",
     "start_time": "2022-11-24T06:15:35.609625Z"
    }
   },
   "outputs": [
    {
     "ename": "TypeError",
     "evalue": "'set' object is not subscriptable",
     "output_type": "error",
     "traceback": [
      "\u001b[1;31m---------------------------------------------------------------------------\u001b[0m",
      "\u001b[1;31mTypeError\u001b[0m                                 Traceback (most recent call last)",
      "\u001b[1;32m~\\AppData\\Local\\Temp\\ipykernel_14276\\243613605.py\u001b[0m in \u001b[0;36m<module>\u001b[1;34m\u001b[0m\n\u001b[1;32m----> 1\u001b[1;33m \u001b[0ms\u001b[0m\u001b[1;33m[\u001b[0m\u001b[1;36m0\u001b[0m\u001b[1;33m]\u001b[0m\u001b[1;33m\u001b[0m\u001b[1;33m\u001b[0m\u001b[0m\n\u001b[0m",
      "\u001b[1;31mTypeError\u001b[0m: 'set' object is not subscriptable"
     ]
    }
   ],
   "source": [
    "s[0]"
   ]
  },
  {
   "cell_type": "code",
   "execution_count": 10,
   "id": "3bcd7828",
   "metadata": {
    "ExecuteTime": {
     "end_time": "2022-11-24T06:16:04.619847Z",
     "start_time": "2022-11-24T06:16:04.609854Z"
    }
   },
   "outputs": [
    {
     "data": {
      "text/plain": [
       "{100}"
      ]
     },
     "execution_count": 10,
     "metadata": {},
     "output_type": "execute_result"
    }
   ],
   "source": [
    "#Add\n",
    "s.add(100)\n",
    "s"
   ]
  },
  {
   "cell_type": "code",
   "execution_count": 11,
   "id": "147f9251",
   "metadata": {
    "ExecuteTime": {
     "end_time": "2022-11-24T06:17:30.736996Z",
     "start_time": "2022-11-24T06:17:30.728022Z"
    }
   },
   "outputs": [],
   "source": [
    "a={'apple','Mango','cherry'}\n",
    "b={'microsoft','google','cherry'}"
   ]
  },
  {
   "cell_type": "code",
   "execution_count": 12,
   "id": "ac1c0f32",
   "metadata": {
    "ExecuteTime": {
     "end_time": "2022-11-24T06:17:45.412101Z",
     "start_time": "2022-11-24T06:17:45.401065Z"
    }
   },
   "outputs": [],
   "source": [
    "#Diffrence"
   ]
  },
  {
   "cell_type": "code",
   "execution_count": 13,
   "id": "8edb0962",
   "metadata": {
    "ExecuteTime": {
     "end_time": "2022-11-24T06:17:59.989517Z",
     "start_time": "2022-11-24T06:17:59.970528Z"
    }
   },
   "outputs": [
    {
     "data": {
      "text/plain": [
       "{'Mango', 'apple'}"
      ]
     },
     "execution_count": 13,
     "metadata": {},
     "output_type": "execute_result"
    }
   ],
   "source": [
    "a.difference(b)"
   ]
  },
  {
   "cell_type": "code",
   "execution_count": 14,
   "id": "b258214d",
   "metadata": {
    "ExecuteTime": {
     "end_time": "2022-11-24T06:18:13.821838Z",
     "start_time": "2022-11-24T06:18:13.810823Z"
    }
   },
   "outputs": [
    {
     "data": {
      "text/plain": [
       "{'google', 'microsoft'}"
      ]
     },
     "execution_count": 14,
     "metadata": {},
     "output_type": "execute_result"
    }
   ],
   "source": [
    "b.difference(a)"
   ]
  },
  {
   "cell_type": "code",
   "execution_count": 15,
   "id": "c99cb722",
   "metadata": {
    "ExecuteTime": {
     "end_time": "2022-11-24T06:18:24.306101Z",
     "start_time": "2022-11-24T06:18:24.297089Z"
    }
   },
   "outputs": [],
   "source": [
    "#Intersection"
   ]
  },
  {
   "cell_type": "code",
   "execution_count": 16,
   "id": "5c05448b",
   "metadata": {
    "ExecuteTime": {
     "end_time": "2022-11-24T06:18:37.839214Z",
     "start_time": "2022-11-24T06:18:37.821224Z"
    }
   },
   "outputs": [
    {
     "data": {
      "text/plain": [
       "{'cherry'}"
      ]
     },
     "execution_count": 16,
     "metadata": {},
     "output_type": "execute_result"
    }
   ],
   "source": [
    "a.intersection(b)"
   ]
  },
  {
   "cell_type": "code",
   "execution_count": 17,
   "id": "210e61ad",
   "metadata": {
    "ExecuteTime": {
     "end_time": "2022-11-24T06:18:45.083081Z",
     "start_time": "2022-11-24T06:18:45.067094Z"
    }
   },
   "outputs": [],
   "source": [
    "#Union"
   ]
  },
  {
   "cell_type": "code",
   "execution_count": 18,
   "id": "06d09905",
   "metadata": {
    "ExecuteTime": {
     "end_time": "2022-11-24T06:18:54.417225Z",
     "start_time": "2022-11-24T06:18:54.398215Z"
    }
   },
   "outputs": [
    {
     "data": {
      "text/plain": [
       "{'Mango', 'apple', 'cherry', 'google', 'microsoft'}"
      ]
     },
     "execution_count": 18,
     "metadata": {},
     "output_type": "execute_result"
    }
   ],
   "source": [
    "a.union(b)"
   ]
  },
  {
   "cell_type": "code",
   "execution_count": 19,
   "id": "a5921926",
   "metadata": {
    "ExecuteTime": {
     "end_time": "2022-11-24T06:18:59.530853Z",
     "start_time": "2022-11-24T06:18:59.524857Z"
    }
   },
   "outputs": [],
   "source": [
    "#pop"
   ]
  },
  {
   "cell_type": "code",
   "execution_count": 20,
   "id": "36e84452",
   "metadata": {
    "ExecuteTime": {
     "end_time": "2022-11-24T06:19:07.325754Z",
     "start_time": "2022-11-24T06:19:07.305767Z"
    }
   },
   "outputs": [
    {
     "data": {
      "text/plain": [
       "'apple'"
      ]
     },
     "execution_count": 20,
     "metadata": {},
     "output_type": "execute_result"
    }
   ],
   "source": [
    "a.pop()"
   ]
  },
  {
   "cell_type": "code",
   "execution_count": null,
   "id": "dd3390a7",
   "metadata": {},
   "outputs": [],
   "source": [
    "#"
   ]
  }
 ],
 "metadata": {
  "kernelspec": {
   "display_name": "Python 3 (ipykernel)",
   "language": "python",
   "name": "python3"
  },
  "language_info": {
   "codemirror_mode": {
    "name": "ipython",
    "version": 3
   },
   "file_extension": ".py",
   "mimetype": "text/x-python",
   "name": "python",
   "nbconvert_exporter": "python",
   "pygments_lexer": "ipython3",
   "version": "3.9.13"
  }
 },
 "nbformat": 4,
 "nbformat_minor": 5
}
